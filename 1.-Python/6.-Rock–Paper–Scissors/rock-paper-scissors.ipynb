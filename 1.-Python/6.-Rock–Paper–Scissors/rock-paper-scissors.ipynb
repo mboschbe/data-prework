{
 "cells": [
  {
   "cell_type": "markdown",
   "metadata": {},
   "source": [
    "<img src=\"https://bit.ly/2VnXWr2\" width=\"100\" align=\"left\">"
   ]
  },
  {
   "cell_type": "markdown",
   "metadata": {},
   "source": [
    "# Rock, Paper & Scissors\n",
    "\n",
    "Let's play the famous game against our computer. You can check the rules [here](https://en.wikipedia.org/wiki/Rock%E2%80%93paper%E2%80%93scissors). \n",
    "\n",
    "## Task\n",
    "Create a program that imitates the playability of the well known game of rock, paper, scissors. Follow the guidelines provided.\n",
    "\n",
    "## Tools\n",
    "1. Loop: **for/while**\n",
    "2. Functions: **input(), print()...**\n",
    "3. Conditional statements: **if, elif, else**\n",
    "4. Definition of functions. Modular programming\n",
    "5. Import modules\n",
    "\n",
    "**To solve this challenge, the use of functions is recommended.**\n",
    "\n",
    "#### 1. Import the choice function of the random module."
   ]
  },
  {
   "cell_type": "code",
   "execution_count": 15,
   "metadata": {},
   "outputs": [],
   "source": [
    "from random import choice"
   ]
  },
  {
   "cell_type": "markdown",
   "metadata": {},
   "source": [
    "#### 2. Create a list that includes the 3 possible gesture options of the game: 'rock', 'paper' or 'scissors'. Store the list in a variable called `gestures`."
   ]
  },
  {
   "cell_type": "code",
   "execution_count": 16,
   "metadata": {},
   "outputs": [],
   "source": [
    "gestures = [\"rock\",\"paper\",\"scissors\"]"
   ]
  },
  {
   "cell_type": "markdown",
   "metadata": {},
   "source": [
    "#### 3. Create a variable called `n_rounds` to store the maximum number of rounds to play in a game. \n",
    "Remember that the number of rounds must be odd: 1, 3, 5, ..."
   ]
  },
  {
   "cell_type": "code",
   "execution_count": 17,
   "metadata": {},
   "outputs": [
    {
     "name": "stdout",
     "output_type": "stream",
     "text": [
      "How many rounds do you want to play? It must be odd number3\n",
      "Ok, let's play\n",
      "3\n"
     ]
    }
   ],
   "source": [
    "n_rounds = input(\"How many rounds do you want to play? It must be odd number\")\n",
    "\n",
    "n_rounds= int(n_rounds)\n",
    "\n",
    "if n_rounds %2 == 0:\n",
    "    print(\"Sorry but this is not an odd number\")\n",
    "if n_rounds >9:\n",
    "    print(\"I don't want to play that much\")\n",
    "elif n_rounds <3:\n",
    "    print(\"Come on, let's play more\")\n",
    "else:\n",
    "    print(\"Ok, let's play\")\n",
    "\n",
    "print(n_rounds)\n",
    "\n"
   ]
  },
  {
   "cell_type": "markdown",
   "metadata": {},
   "source": [
    "#### 4. Create a variable called `rounds_to_win` to store the number of rounds that a player must win to win the game.\n",
    "**Hint**: the value stored in `rounds_to_win` depends on the value of `n_rounds`. "
   ]
  },
  {
   "cell_type": "code",
   "execution_count": 18,
   "metadata": {},
   "outputs": [],
   "source": [
    "\n",
    "import math\n",
    "rounds_to_win = math.ceil(n_rounds/2)\n"
   ]
  },
  {
   "cell_type": "markdown",
   "metadata": {},
   "source": [
    "#### 5. Create two variables to store the number of rounds that the computer and the player have won. Call these variables `cpu_score` and `player_score`."
   ]
  },
  {
   "cell_type": "code",
   "execution_count": 19,
   "metadata": {},
   "outputs": [],
   "source": [
    "cpu_score = 0\n",
    "player_score = 0"
   ]
  },
  {
   "cell_type": "markdown",
   "metadata": {},
   "source": [
    "#### 6. Define a function that randomly returns one of the 3 gesture options.\n",
    "You will use this function to simulate the gesture choice of the computer. "
   ]
  },
  {
   "cell_type": "code",
   "execution_count": 20,
   "metadata": {},
   "outputs": [],
   "source": [
    "def options(gestures):\n",
    "    return choice(gestures);"
   ]
  },
  {
   "cell_type": "markdown",
   "metadata": {},
   "source": [
    "#### 7. Define a function that asks the player which is the gesture he or she wants to show: 'rock', 'paper' or 'scissors'.\n",
    "The player should only be allowed to choose one of the 3 gesture options. If the player's choice is not rock, paper or scissors, keep asking until it is."
   ]
  },
  {
   "cell_type": "code",
   "execution_count": 35,
   "metadata": {},
   "outputs": [],
   "source": [
    "def ask(x):\n",
    "    player = 0\n",
    "    while player == 0:\n",
    "        player = input(\"Please choose wisely: \" + str(x) + \" >>>    \")\n",
    "        if player in x:\n",
    "            return player\n",
    "        else:\n",
    "            print(\"Please choose one\")\n",
    "            player = 0"
   ]
  },
  {
   "cell_type": "markdown",
   "metadata": {},
   "source": [
    "#### 8. Define a function that checks who won a round. \n",
    "The function should return 0 if there is a tie, 1 if the computer wins and 2 if the player wins."
   ]
  },
  {
   "cell_type": "code",
   "execution_count": 22,
   "metadata": {},
   "outputs": [],
   "source": [
    "beats = {'paper': 'scissors',\n",
    "         'rock': 'paper',\n",
    "         'scissors': 'rock'}\n",
    "          \n",
    "def winner(y):\n",
    "        if player == beats[robot]:\n",
    "            outcome = 2\n",
    "        elif robot == beats[player]:\n",
    "            outcome = 1\n",
    "        else:\n",
    "            outcome = 0\n",
    "        return outcome"
   ]
  },
  {
   "cell_type": "markdown",
   "metadata": {},
   "source": [
    "#### 9. Define a function that prints the choice of the computer, the choice of the player and a message that announces who won the current round. \n",
    "You should also use this function to update the variables that count the number of rounds that the computer and the player have won. The score of the winner increases by one point. If there is a tie, the score does not increase."
   ]
  },
  {
   "cell_type": "code",
   "execution_count": 23,
   "metadata": {},
   "outputs": [],
   "source": [
    "def final(z):\n",
    "    print(\"You choose \" + player)\n",
    "    print(\"I choose \" + robot)\n",
    "    if outcome == 0:\n",
    "        print(\"Nobody win\")\n",
    "    elif outcome == 1:\n",
    "        print(\"Machine rules, human trash\")\n",
    "    elif outcome == 2:\n",
    "        print(\"Fuck machines, human rules\")"
   ]
  },
  {
   "cell_type": "markdown",
   "metadata": {},
   "source": [
    "#### 10. Now it's time to code the execution of the game using the functions and variables you defined above. \n",
    "\n",
    "First, create a loop structure that repeats while no player reaches the minimum score necessary to win and the number of rounds is less than the maximum number of rounds to play in a game.  \n",
    "\n",
    "Inside the loop, use the functions and variables above to create the execution of a round: ask for the player's choice, generate the random choice of the computer, show the round results, update the scores, etc. "
   ]
  },
  {
   "cell_type": "code",
   "execution_count": 31,
   "metadata": {},
   "outputs": [],
   "source": [
    "rounds_number = 0\n",
    "\n",
    "while rounds_number < n_rounds and cpu_score < rounds_to_win and player_score < rounds_to_win:\n",
    "    player = ask(gestures)\n",
    "    robot = options(gestures)\n",
    "    outcome = winner(beats)\n",
    "    final(outcome)\n",
    "    rounds_number += 1\n",
    "    if outcome == 1:\n",
    "        cpu_score += 1\n",
    "    elif outcome == 2:\n",
    "        player_score += 1\n",
    "    "
   ]
  },
  {
   "cell_type": "markdown",
   "metadata": {},
   "source": [
    "### 11. Print the winner of the game based on who won more rounds.\n",
    "Remember that the game might be tied. "
   ]
  },
  {
   "cell_type": "code",
   "execution_count": 27,
   "metadata": {},
   "outputs": [
    {
     "name": "stdout",
     "output_type": "stream",
     "text": [
      "HUman Looser, Computer wins!\n"
     ]
    }
   ],
   "source": [
    "    if cpu_score > player_score:\n",
    "        print(\"HUman Looser, Computer wins!\")\n",
    "    elif cpu_score < player_score:\n",
    "        print(\"HUman still smarter, HUman wins!,\")\n",
    "    else:\n",
    "        print(\"We should repeat\")\n",
    "        "
   ]
  },
  {
   "cell_type": "markdown",
   "metadata": {},
   "source": [
    "# Bonus: Rock, Paper, Scissors, Lizard & Spock\n",
    "![](images/rpsls.jpg)\n",
    "\n",
    "In this challenge, you need to improve the previous game by adding two new options. To know more about the rules of the improved version of rock, paper, scissors, check this [link](http://www.samkass.com/theories/RPSSL.html). \n",
    "\n",
    "In addition, you will also need to improve how the game interacts with the player: the number of rounds to play, which must be an odd number, will be requested to the user until a valid number is entered. Define a new function to make that request.\n",
    "\n",
    "**Hint**: Try to reuse the code that you already coded in the previous challenge. If your code is efficient, this bonus will only consist of simple modifications to the original game."
   ]
  },
  {
   "cell_type": "code",
   "execution_count": 38,
   "metadata": {},
   "outputs": [
    {
     "name": "stdout",
     "output_type": "stream",
     "text": [
      "Please choose wisely: ['rock', 'paper', 'scissors', 'lizard', 'spock'] >>>    rock\n",
      "You choose rock\n",
      "I choose rock\n",
      "Nobody win\n",
      "Please choose wisely: ['rock', 'paper', 'scissors', 'lizard', 'spock'] >>>    paper\n",
      "You choose paper\n",
      "I choose scissors\n",
      "Machine rules, human trash\n",
      "Please choose wisely: ['rock', 'paper', 'scissors', 'lizard', 'spock'] >>>    lizard\n",
      "You choose lizard\n",
      "I choose rock\n",
      "Machine rules, human trash\n"
     ]
    }
   ],
   "source": [
    "gestures2 = [\"rock\",\"paper\",\"scissors\",\"lizard\",\"spock\"]\n",
    "\n",
    "cpu_score2 = 0\n",
    "player_score2 = 0\n",
    "\n",
    "beats2 = {'paper': 'scissors',\n",
    "         'rock': 'paper',\n",
    "         'scissors': 'rock',\n",
    "         'scissors':\"spock\",\n",
    "         \"spock\":\"paper\",\n",
    "         \"spock\":\"lizard\",\n",
    "         \"lizard\":\"rock\",\n",
    "         \"rock\":\"spock\"}\n",
    "\n",
    "def options(gestures2):\n",
    "    return choice(gestures2);\n",
    "\n",
    "\n",
    "def winner2(y):\n",
    "        if player == beats2[robot]:\n",
    "            outcome = 2\n",
    "        elif robot == beats2[player]:\n",
    "            outcome = 1\n",
    "        else:\n",
    "            outcome = 0\n",
    "        return outcome\n",
    "    \n",
    "rounds_number2 = 0\n",
    "\n",
    "while rounds_number2 < n_rounds and cpu_score2 < rounds_to_win and player_score2 < rounds_to_win:\n",
    "    player = ask(gestures2)\n",
    "    robot = options(gestures2)\n",
    "    outcome = winner2(beats2)\n",
    "    final(outcome)\n",
    "    rounds_number2 += 1\n",
    "    if outcome == 1:\n",
    "        cpu_score2 += 1\n",
    "    elif outcome == 2:\n",
    "        player_score2 += 1\n",
    "    "
   ]
  },
  {
   "cell_type": "code",
   "execution_count": null,
   "metadata": {},
   "outputs": [],
   "source": []
  }
 ],
 "metadata": {
  "kernelspec": {
   "display_name": "Python 3",
   "language": "python",
   "name": "python3"
  },
  "language_info": {
   "codemirror_mode": {
    "name": "ipython",
    "version": 3
   },
   "file_extension": ".py",
   "mimetype": "text/x-python",
   "name": "python",
   "nbconvert_exporter": "python",
   "pygments_lexer": "ipython3",
   "version": "3.8.5"
  }
 },
 "nbformat": 4,
 "nbformat_minor": 2
}
